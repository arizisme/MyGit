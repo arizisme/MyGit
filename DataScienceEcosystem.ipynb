{
 "cells": [
  {
   "cell_type": "markdown",
   "id": "cd8c9f48-867a-478a-9998-20da3f4753c0",
   "metadata": {},
   "source": [
    "# Data Science Tools And Ecosystem"
   ]
  },
  {
   "cell_type": "markdown",
   "id": "e9cb51e8-abb3-43ad-8704-ac74e5ea539f",
   "metadata": {},
   "source": [
    "In this notebook, Data Science Tools and Ecosystem are summarized."
   ]
  },
  {
   "cell_type": "markdown",
   "id": "156df7ed-e315-4a73-bea4-a0688adc934d",
   "metadata": {},
   "source": [
    "**Objectives:**\n",
    "* Understanding the function of Markdown.\n",
    "* Understanding how to create text in a Markdown cell.\n",
    "* Understanding how to modify text in a Markdown cell."
   ]
  },
  {
   "cell_type": "markdown",
   "id": "3087e61b-6255-404b-be2f-ceaca7ff21ba",
   "metadata": {},
   "source": [
    "Some of the popular languages that Data Scientists use are:\n",
    "1. Python\n",
    "2. R\n",
    "3. Julia\n",
    "4. Scala\n",
    "5. Java\n",
    "6. SQL\n",
    "7. C/C++"
   ]
  },
  {
   "cell_type": "markdown",
   "id": "1ed97f0b-67c0-4ec4-84a4-6570aa643408",
   "metadata": {},
   "source": [
    "Some of the commonly used libraries used by Data Scientists include:\n",
    "1. NumPy\n",
    "2. Pandas\n",
    "3. Matplotlib\n",
    "4. Seaborn\n",
    "5. Scikit-Learn\n",
    "6. TensorFlow\n",
    "7. Keras"
   ]
  },
  {
   "cell_type": "markdown",
   "id": "952e0580-f729-487a-a43c-b6cd958fc04e",
   "metadata": {},
   "source": [
    "| Data Science Tools |\n",
    "|--------------------|\n",
    "| Jupyter Notebook   |\n",
    "| RStudio            |\n",
    "| VS Code (with extensions) |"
   ]
  },
  {
   "cell_type": "markdown",
   "id": "71682847-ea9b-4155-bce5-0b0db972ff20",
   "metadata": {},
   "source": [
    "### Below are a few examples of evaluating arithmetic expressions in Python"
   ]
  },
  {
   "cell_type": "code",
   "execution_count": 3,
   "id": "07c22ae5-fe3c-4cd7-83bd-de8b072e913e",
   "metadata": {},
   "outputs": [
    {
     "data": {
      "text/plain": [
       "17"
      ]
     },
     "execution_count": 3,
     "metadata": {},
     "output_type": "execute_result"
    }
   ],
   "source": [
    "#This a simple arithmetic expression to mutiply then add integers.\n",
    "(3*4)+5"
   ]
  },
  {
   "cell_type": "code",
   "execution_count": 5,
   "id": "7201f8a7-eb6c-4839-8c6c-f9f0b1b889c5",
   "metadata": {},
   "outputs": [
    {
     "data": {
      "text/plain": [
       "3.3333333333333335"
      ]
     },
     "execution_count": 5,
     "metadata": {},
     "output_type": "execute_result"
    }
   ],
   "source": [
    "#This will convert 200 minutes to hours by diving by 60\n",
    "minutes = 200\n",
    "hours = minutes / 60\n",
    "\n",
    "hours"
   ]
  },
  {
   "cell_type": "markdown",
   "id": "5ae603e6-26e2-44bd-a09f-f528c8a0788d",
   "metadata": {},
   "source": [
    "## Author\n",
    "Tri Warisman"
   ]
  },
  {
   "cell_type": "code",
   "execution_count": null,
   "id": "f275d23c-ded2-4dfe-8ead-9c1fe408e79e",
   "metadata": {},
   "outputs": [],
   "source": []
  }
 ],
 "metadata": {
  "kernelspec": {
   "display_name": "Python 3 (ipykernel)",
   "language": "python",
   "name": "python3"
  },
  "language_info": {
   "codemirror_mode": {
    "name": "ipython",
    "version": 3
   },
   "file_extension": ".py",
   "mimetype": "text/x-python",
   "name": "python",
   "nbconvert_exporter": "python",
   "pygments_lexer": "ipython3",
   "version": "3.9.12"
  }
 },
 "nbformat": 4,
 "nbformat_minor": 5
}
